{
 "cells": [
  {
   "cell_type": "code",
   "execution_count": 1,
   "id": "aa6453fd",
   "metadata": {},
   "outputs": [
    {
     "name": "stdout",
     "output_type": "stream",
     "text": [
      "Libraries imported successfully.\n"
     ]
    }
   ],
   "source": [
    "# --- Core Libraries ---\n",
    "import pandas as pd\n",
    "import numpy as np\n",
    "import datetime\n",
    "import os\n",
    "import joblib\n",
    "\n",
    "# --- Machine Learning ---\n",
    "import xgboost as xgb\n",
    "from sklearn.metrics import accuracy_score, precision_score, recall_score, f1_score\n",
    "from sklearn.model_selection import train_test_split\n",
    "\n",
    "# --- Visualization ---\n",
    "import matplotlib.pyplot as plt\n",
    "import seaborn as sns\n",
    "\n",
    "# --- Notebook Settings ---\n",
    "%matplotlib inline\n",
    "sns.set_style('whitegrid')\n",
    "print(\"Libraries imported successfully.\")"
   ]
  },
  {
   "cell_type": "code",
   "execution_count": 11,
   "id": "5ab4ce5b",
   "metadata": {},
   "outputs": [
    {
     "name": "stdout",
     "output_type": "stream",
     "text": [
      "Constants defined.\n"
     ]
    }
   ],
   "source": [
    "# --- File and Data Constants ---\n",
    "DATA_FILE_PATH = \"/workspaces/team-2-abb-hackathon/dataset/train_numeric.csv\"\n",
    "MODEL_SAVE_PATH = \"xgboost_model.joblib\"\n",
    "CURVES_SAVE_PATH = \"training_curves.json\"\n",
    "ID_COLUMN = \"Id\"\n",
    "TARGET_COLUMN = \"Response\"\n",
    "TIMESTAMP_COLUMN = \"synthetic_timestamp\"\n",
    "\n",
    "# --- Memory Management Constants ---\n",
    "# Using a smaller sample for initial feature selection to manage memory\n",
    "CHUNK_SIZE = 100000\n",
    "SAMPLE_FRACTION = 0.05\n",
    "\n",
    "N_TOP_FEATURES = 100  # Select only the top N most important features\n",
    "DATA_SAMPLE_FRACTION = 0.20  # Use only 20% of the total data for training/testing\n",
    "\n",
    "SYNTHETIC_DATA_START_DATE = datetime.datetime(2023, 1, 1, 0, 0, 0)\n",
    "\n",
    "print(\"Constants defined.\")"
   ]
  },
  {
   "cell_type": "code",
   "execution_count": 3,
   "id": "8e0c1769",
   "metadata": {},
   "outputs": [
    {
     "name": "stdout",
     "output_type": "stream",
     "text": [
      "Calculating total rows to determine time splits...\n",
      "Total original data rows found: 1183747\n",
      "Total rows after sampling (20.0%): 236749\n",
      "\n",
      "Programmatically determining time periods for a 60-20-20 split...\n",
      "\n",
      "--- Calculated Time Periods ---\n",
      "Training:   2023-01-01 00:00:00 -> 2023-01-02 15:27:28\n",
      "Testing:    2023-01-02 15:27:29 -> 2023-01-03 04:36:37\n",
      "Simulation: 2023-01-03 04:36:38 -> 2023-01-03 17:45:48\n",
      "-----------------------------\n",
      "\n",
      "Validating calculated time periods...\n",
      "All time period validations passed successfully!\n"
     ]
    }
   ],
   "source": [
    "# --- Determine the total number of rows to calculate the full timestamp range ---\n",
    "print(\"Calculating total rows to determine time splits...\")\n",
    "total_rows = sum(1 for row in open(DATA_FILE_PATH, \"r\")) - 1  # Subtract 1 for header\n",
    "print(f\"Total original data rows found: {total_rows}\")\n",
    "\n",
    "# --- Calculate the number of rows in the final sampled dataset ---\n",
    "sampled_total_rows = int(total_rows * DATA_SAMPLE_FRACTION)\n",
    "print(f\"Total rows after sampling ({DATA_SAMPLE_FRACTION*100}%): {sampled_total_rows}\")\n",
    "\n",
    "# --- Programmatically Determine Time Splits for a 60-20-20 Ratio ---\n",
    "print(\"\\nProgrammatically determining time periods for a 60-20-20 split...\")\n",
    "\n",
    "# Total duration in seconds is equal to the number of rows in our final dataset\n",
    "duration_in_seconds = sampled_total_rows\n",
    "\n",
    "# Calculate the end point (in seconds from the start) for each period\n",
    "train_duration_sec = int(duration_in_seconds * 0.60)\n",
    "test_duration_sec = int(duration_in_seconds * 0.20)\n",
    "\n",
    "# Define the absolute start and end times for the entire sampled dataset\n",
    "DATASET_START_TIME = SYNTHETIC_DATA_START_DATE\n",
    "DATASET_END_TIME = DATASET_START_TIME + datetime.timedelta(\n",
    "    seconds=duration_in_seconds - 1\n",
    ")\n",
    "\n",
    "# Calculate the specific start and end datetimes for each period\n",
    "TRAINING_PERIOD_START = DATASET_START_TIME\n",
    "TRAINING_PERIOD_END = TRAINING_PERIOD_START + datetime.timedelta(\n",
    "    seconds=train_duration_sec - 1\n",
    ")\n",
    "\n",
    "TESTING_PERIOD_START = TRAINING_PERIOD_END + datetime.timedelta(seconds=1)\n",
    "TESTING_PERIOD_END = TESTING_PERIOD_START + datetime.timedelta(\n",
    "    seconds=test_duration_sec - 1\n",
    ")\n",
    "\n",
    "SIMULATION_PERIOD_START = TESTING_PERIOD_END + datetime.timedelta(seconds=1)\n",
    "SIMULATION_PERIOD_END = DATASET_END_TIME  # The rest of the data\n",
    "\n",
    "print(\"\\n--- Calculated Time Periods ---\")\n",
    "print(f\"Training:   {TRAINING_PERIOD_START} -> {TRAINING_PERIOD_END}\")\n",
    "print(f\"Testing:    {TESTING_PERIOD_START} -> {TESTING_PERIOD_END}\")\n",
    "print(f\"Simulation: {SIMULATION_PERIOD_START} -> {SIMULATION_PERIOD_END}\")\n",
    "print(\"-----------------------------\\n\")\n",
    "\n",
    "# --- Validate the defined period constants ---\n",
    "print(\"Validating calculated time periods...\")\n",
    "try:\n",
    "    assert (\n",
    "        TRAINING_PERIOD_START <= TRAINING_PERIOD_END\n",
    "    ), \"Training start must be <= training end.\"\n",
    "    assert (\n",
    "        TESTING_PERIOD_START <= TESTING_PERIOD_END\n",
    "    ), \"Testing start must be <= testing end.\"\n",
    "    assert (\n",
    "        SIMULATION_PERIOD_START <= SIMULATION_PERIOD_END\n",
    "    ), \"Simulation start must be <= simulation end.\"\n",
    "\n",
    "    assert (\n",
    "        TRAINING_PERIOD_END < TESTING_PERIOD_START\n",
    "    ), \"Testing period must start after training period ends.\"\n",
    "    assert (\n",
    "        TESTING_PERIOD_END < SIMULATION_PERIOD_START\n",
    "    ), \"Simulation period must start after testing period ends.\"\n",
    "\n",
    "    assert (\n",
    "        TRAINING_PERIOD_START >= DATASET_START_TIME\n",
    "    ), \"Training start date is before the dataset's start.\"\n",
    "    assert (\n",
    "        SIMULATION_PERIOD_END <= DATASET_END_TIME\n",
    "    ), \"Simulation end date is after the dataset's end.\"\n",
    "\n",
    "    print(\"All time period validations passed successfully!\")\n",
    "except AssertionError as e:\n",
    "    print(f\"Validation Error: {e}\")"
   ]
  },
  {
   "cell_type": "code",
   "execution_count": 4,
   "id": "05cc50b9",
   "metadata": {},
   "outputs": [
    {
     "name": "stdout",
     "output_type": "stream",
     "text": [
      "Starting feature selection using a data sample...\n",
      "Sampled DataFrame created with 59187 rows.\n",
      "Training preliminary XGBoost model on the sample...\n"
     ]
    },
    {
     "name": "stderr",
     "output_type": "stream",
     "text": [
      "/opt/python/3.13.5/lib/python3.13/site-packages/xgboost/training.py:183: UserWarning: [09:29:35] WARNING: /workspace/src/learner.cc:738: \n",
      "Parameters: { \"use_label_encoder\" } are not used.\n",
      "\n",
      "  bst.update(dtrain, iteration=i, fobj=obj)\n"
     ]
    },
    {
     "name": "stdout",
     "output_type": "stream",
     "text": [
      "\n",
      "Selected the top 100 most important features (out of 968).\n"
     ]
    }
   ],
   "source": [
    "print(\"Starting feature selection using a data sample...\")\n",
    "\n",
    "# Read the data in chunks and sample from each chunk\n",
    "chunks = pd.read_csv(DATA_FILE_PATH, chunksize=CHUNK_SIZE)\n",
    "sample_df_list = []\n",
    "\n",
    "for chunk in chunks:\n",
    "    sample_df_list.append(chunk.sample(frac=SAMPLE_FRACTION, random_state=42))\n",
    "\n",
    "# Concatenate all samples into a single DataFrame\n",
    "sample_df = pd.concat(sample_df_list)\n",
    "print(f\"Sampled DataFrame created with {len(sample_df)} rows.\")\n",
    "\n",
    "# Prepare data for the preliminary model\n",
    "X_sample = sample_df.drop(columns=[ID_COLUMN, TARGET_COLUMN])\n",
    "y_sample = sample_df[TARGET_COLUMN]\n",
    "\n",
    "# Train a preliminary XGBoost model to get feature importances\n",
    "print(\"Training preliminary XGBoost model on the sample...\")\n",
    "prelim_model = xgb.XGBClassifier(use_label_encoder=False, eval_metric=\"logloss\")\n",
    "prelim_model.fit(X_sample, y_sample)\n",
    "\n",
    "# Get feature importances and select the most important ones\n",
    "importances = prelim_model.feature_importances_\n",
    "# Get the indices of the features sorted by importance (descending)\n",
    "indices = np.argsort(importances)[::-1]\n",
    "# Select the names of the top N features\n",
    "important_features = X_sample.columns[indices[:N_TOP_FEATURES]]\n",
    "\n",
    "print(\n",
    "    f\"\\nSelected the top {len(important_features)} most important features (out of {len(X_sample.columns)}).\"\n",
    ")\n",
    "# We must always include the ID and Target columns for processing\n",
    "cols_to_load = [ID_COLUMN, TARGET_COLUMN] + list(important_features)"
   ]
  },
  {
   "cell_type": "code",
   "execution_count": 5,
   "id": "56d2deae",
   "metadata": {},
   "outputs": [
    {
     "name": "stdout",
     "output_type": "stream",
     "text": [
      "Loading 20.0% of the dataset with the top 100 features...\n",
      "Created a single sampled DataFrame with 236749 rows.\n",
      "\n",
      "Data successfully split from the 20.0% sample:\n",
      " - Training set size:   142049 rows\n",
      " - Testing set size:      47349 rows\n",
      " - Simulation set size:   47351 rows\n"
     ]
    },
    {
     "data": {
      "text/plain": [
       "67"
      ]
     },
     "execution_count": 5,
     "metadata": {},
     "output_type": "execute_result"
    }
   ],
   "source": [
    "print(\n",
    "    f\"Loading {DATA_SAMPLE_FRACTION*100}% of the dataset with the top {N_TOP_FEATURES} features...\"\n",
    ")\n",
    "\n",
    "# 1. Read the data in chunks, sampling from each chunk to reduce memory usage\n",
    "sampled_chunks = []\n",
    "for chunk in pd.read_csv(DATA_FILE_PATH, usecols=cols_to_load, chunksize=CHUNK_SIZE):\n",
    "    sampled_chunks.append(chunk.sample(frac=DATA_SAMPLE_FRACTION))\n",
    "\n",
    "# 2. Concatenate the sampled chunks into a single DataFrame\n",
    "full_sampled_df = pd.concat(sampled_chunks, ignore_index=True)\n",
    "print(f\"Created a single sampled DataFrame with {len(full_sampled_df)} rows.\")\n",
    "\n",
    "# 3. Add the synthetic timestamp column to the sampled data\n",
    "# NOTE: The timestamp is now relative to the sampled data, not the original row count.\n",
    "# This is a necessary simplification for memory management. The time-based split remains valid.\n",
    "start_time = DATASET_START_TIME  # Use the original start time\n",
    "timestamps = pd.to_datetime(\n",
    "    [start_time + datetime.timedelta(seconds=i) for i in range(len(full_sampled_df))]\n",
    ")\n",
    "full_sampled_df[TIMESTAMP_COLUMN] = timestamps\n",
    "\n",
    "# 4. Split the single, in-memory DataFrame based on the defined time periods\n",
    "train_df = full_sampled_df[\n",
    "    (full_sampled_df[TIMESTAMP_COLUMN] >= TRAINING_PERIOD_START)\n",
    "    & (full_sampled_df[TIMESTAMP_COLUMN] <= TRAINING_PERIOD_END)\n",
    "]\n",
    "test_df = full_sampled_df[\n",
    "    (full_sampled_df[TIMESTAMP_COLUMN] >= TESTING_PERIOD_START)\n",
    "    & (full_sampled_df[TIMESTAMP_COLUMN] <= TESTING_PERIOD_END)\n",
    "]\n",
    "simulation_df = full_sampled_df[\n",
    "    (full_sampled_df[TIMESTAMP_COLUMN] >= SIMULATION_PERIOD_START)\n",
    "    & (full_sampled_df[TIMESTAMP_COLUMN] <= SIMULATION_PERIOD_END)\n",
    "]\n",
    "\n",
    "print(f\"\\nData successfully split from the {DATA_SAMPLE_FRACTION*100}% sample:\")\n",
    "print(f\" - Training set size:   {len(train_df)} rows\")\n",
    "print(f\" - Testing set size:      {len(test_df)} rows\")\n",
    "print(f\" - Simulation set size:   {len(simulation_df)} rows\")\n",
    "\n",
    "# Prepare final training and testing sets\n",
    "X_train = train_df[important_features]\n",
    "y_train = train_df[TARGET_COLUMN]\n",
    "\n",
    "X_test = test_df[important_features]\n",
    "y_test = test_df[TARGET_COLUMN]\n",
    "\n",
    "# Clean up to free memory\n",
    "del full_sampled_df, train_df, test_df, simulation_df\n",
    "import gc\n",
    "\n",
    "gc.collect()"
   ]
  },
  {
   "cell_type": "code",
   "execution_count": 7,
   "id": "dc66c8c5",
   "metadata": {},
   "outputs": [
    {
     "name": "stdout",
     "output_type": "stream",
     "text": [
      "Training the final XGBoost model...\n"
     ]
    },
    {
     "name": "stderr",
     "output_type": "stream",
     "text": [
      "/opt/python/3.13.5/lib/python3.13/site-packages/xgboost/training.py:183: UserWarning: [09:33:22] WARNING: /workspace/src/learner.cc:738: \n",
      "Parameters: { \"use_label_encoder\" } are not used.\n",
      "\n",
      "  bst.update(dtrain, iteration=i, fobj=obj)\n"
     ]
    },
    {
     "name": "stdout",
     "output_type": "stream",
     "text": [
      "Model training complete.\n"
     ]
    }
   ],
   "source": [
    "print(\"Training the final XGBoost model...\")\n",
    "\n",
    "# Instantiate the final classifier\n",
    "# We use a custom 'accuracy' metric since XGBoost's default metrics might differ slightly\n",
    "model = xgb.XGBClassifier(\n",
    "    n_estimators=200,  # Number of boosting rounds\n",
    "    max_depth=5,\n",
    "    learning_rate=0.1,\n",
    "    use_label_encoder=False,\n",
    "    objective=\"binary:logistic\",\n",
    "    eval_metric=eval_metric,\n",
    ")\n",
    "\n",
    "# Define the evaluation set to track performance on the training data\n",
    "eval_set = [(X_train, y_train)]\n",
    "\n",
    "# Define evaluation metrics. 'logloss' for loss, 'error' for classification error.\n",
    "# We will calculate accuracy from 'error' (accuracy = 1 - error)\n",
    "eval_metric = [\"logloss\", \"error\"]\n",
    "\n",
    "# Train the model\n",
    "model.fit(\n",
    "    X_train,\n",
    "    y_train,\n",
    "    eval_set=eval_set,\n",
    "    verbose=False,  # Set to True if you want to see progress during training\n",
    ")\n",
    "\n",
    "print(\"Model training complete.\")\n",
    "\n",
    "# Retrieve the evaluation results\n",
    "eval_results = model.evals_result()"
   ]
  },
  {
   "cell_type": "code",
   "execution_count": 8,
   "id": "bbce0365",
   "metadata": {},
   "outputs": [
    {
     "data": {
      "image/png": "[encoded data removed]",
      "text/plain": [
       "<Figure size 1200x600 with 2 Axes>"
      ]
     },
     "metadata": {},
     "output_type": "display_data"
    }
   ],
   "source": [
    "# --- Extract metrics from the results dictionary ---\n",
    "train_loss = eval_results[\"validation_0\"][\"logloss\"]\n",
    "train_error = eval_results[\"validation_0\"][\"error\"]\n",
    "train_accuracy = [1 - err for err in train_error]\n",
    "epochs = len(train_loss)\n",
    "x_axis = range(0, epochs)\n",
    "\n",
    "# --- Create the plot ---\n",
    "fig, ax1 = plt.subplots(figsize=(12, 6))\n",
    "\n",
    "# Plot Training Loss\n",
    "color = \"tab:red\"\n",
    "ax1.set_xlabel(\"Boosting Round (Epoch)\")\n",
    "ax1.set_ylabel(\"Log Loss\", color=color)\n",
    "ax1.plot(x_axis, train_loss, color=color, label=\"Train Loss\")\n",
    "ax1.tick_params(axis=\"y\", labelcolor=color)\n",
    "ax1.legend(loc=\"upper left\")\n",
    "\n",
    "# Create a second y-axis for accuracy\n",
    "ax2 = ax1.twinx()\n",
    "color = \"tab:blue\"\n",
    "ax2.set_ylabel(\"Accuracy\", color=color)\n",
    "ax2.plot(x_axis, train_accuracy, color=color, label=\"Train Accuracy\")\n",
    "ax2.tick_params(axis=\"y\", labelcolor=color)\n",
    "ax2.legend(loc=\"upper right\")\n",
    "\n",
    "# --- Final Touches ---\n",
    "plt.title(\"XGBoost Training Loss and Accuracy Over Time\")\n",
    "fig.tight_layout()\n",
    "plt.show()"
   ]
  },
  {
   "cell_type": "code",
   "execution_count": 9,
   "id": "ba07d178",
   "metadata": {},
   "outputs": [
    {
     "name": "stdout",
     "output_type": "stream",
     "text": [
      "Evaluating model performance on the test set...\n",
      "\n",
      "--- Test Set Evaluation Metrics ---\n",
      "Accuracy:   0.9947\n",
      "Precision:  0.9091\n",
      "Recall:     0.0385\n",
      "F1-score:   0.0738\n",
      "-----------------------------------\n"
     ]
    }
   ],
   "source": [
    "print(\"Evaluating model performance on the test set...\")\n",
    "\n",
    "# Make predictions on the test data\n",
    "y_pred = model.predict(X_test)\n",
    "\n",
    "# Calculate metrics\n",
    "accuracy = accuracy_score(y_test, y_pred)\n",
    "precision = precision_score(y_test, y_pred)\n",
    "recall = recall_score(y_test, y_pred)\n",
    "f1 = f1_score(y_test, y_pred)\n",
    "\n",
    "# Print metrics\n",
    "print(\"\\n--- Test Set Evaluation Metrics ---\")\n",
    "print(f\"Accuracy:   {accuracy:.4f}\")\n",
    "print(f\"Precision:  {precision:.4f}\")\n",
    "print(f\"Recall:     {recall:.4f}\")\n",
    "print(f\"F1-score:   {f1:.4f}\")\n",
    "print(\"-----------------------------------\")"
   ]
  },
  {
   "cell_type": "code",
   "execution_count": 12,
   "id": "953db75e",
   "metadata": {},
   "outputs": [
    {
     "name": "stdout",
     "output_type": "stream",
     "text": [
      "Training curves data successfully saved to 'training_curves.json'\n",
      "Trained XGBoost model saved to 'xgboost_model.joblib'\n"
     ]
    }
   ],
   "source": [
    "# --- Save the training curves plot ---\n",
    "import json \n",
    "\n",
    "try:\n",
    "    # Structure the data for easy consumption by a frontend/API.\n",
    "    # The variables train_loss, train_accuracy, and x_axis were defined in Cell 8.\n",
    "    curves_data = {\n",
    "        \"epochs\": list(x_axis),  # The x-axis (boosting rounds)\n",
    "        \"metrics\": {\"train_loss\": train_loss, \"train_accuracy\": train_accuracy},\n",
    "    }\n",
    "\n",
    "    # Write the dictionary to the specified JSON file\n",
    "    with open(CURVES_SAVE_PATH, \"w\") as f:\n",
    "        json.dump(curves_data, f, indent=4)\n",
    "\n",
    "    print(f\"Training curves data successfully saved to '{CURVES_SAVE_PATH}'\")\n",
    "\n",
    "except NameError:\n",
    "    print(\n",
    "        \"Error: Curve data (e.g., 'train_loss') not found. Make sure Cell 8 has been run.\"\n",
    "    )\n",
    "except Exception as e:\n",
    "    print(f\"An error occurred while saving curves data: {e}\")\n",
    "\n",
    "\n",
    "# --- Save the final trained model ---\n",
    "try:\n",
    "    joblib.dump(model, MODEL_SAVE_PATH)\n",
    "    print(f\"Trained XGBoost model saved to '{MODEL_SAVE_PATH}'\")\n",
    "except Exception as e:\n",
    "    print(f\"Error saving model: {e}\")\n",
    "\n",
    "# To load the model later, you would use:\n",
    "# loaded_model = joblib.load(MODEL_SAVE_PATH)"
   ]
  },
  {
   "cell_type": "code",
   "execution_count": null,
   "id": "b00a3447",
   "metadata": {},
   "outputs": [],
   "source": []
  }
 ],
 "metadata": {
  "kernelspec": {
   "display_name": "Python 3",
   "language": "python",
   "name": "python3"
  },
  "language_info": {
   "codemirror_mode": {
    "name": "ipython",
    "version": 3
   },
   "file_extension": ".py",
   "mimetype": "text/x-python",
   "name": "python",
   "nbconvert_exporter": "python",
   "pygments_lexer": "ipython3",
   "version": "3.13.5"
  }
 },
 "nbformat": 4,
 "nbformat_minor": 5
}
